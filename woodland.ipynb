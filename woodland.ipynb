{
 "cells": [
  {
   "cell_type": "code",
   "execution_count": 1,
   "id": "ac83d79b",
   "metadata": {},
   "outputs": [
    {
     "name": "stdout",
     "output_type": "stream",
     "text": [
      "Requirement already satisfied: bs4 in c:\\users\\akash\\anaconda3\\lib\\site-packages (0.0.1)\n",
      "Requirement already satisfied: beautifulsoup4 in c:\\users\\akash\\anaconda3\\lib\\site-packages (from bs4) (4.12.2)\n",
      "Requirement already satisfied: soupsieve>1.2 in c:\\users\\akash\\anaconda3\\lib\\site-packages (from beautifulsoup4->bs4) (2.4)\n",
      "Requirement already satisfied: requests in c:\\users\\akash\\anaconda3\\lib\\site-packages (2.31.0)\n",
      "Requirement already satisfied: charset-normalizer<4,>=2 in c:\\users\\akash\\anaconda3\\lib\\site-packages (from requests) (2.0.4)\n",
      "Requirement already satisfied: idna<4,>=2.5 in c:\\users\\akash\\anaconda3\\lib\\site-packages (from requests) (3.4)\n",
      "Requirement already satisfied: urllib3<3,>=1.21.1 in c:\\users\\akash\\anaconda3\\lib\\site-packages (from requests) (1.26.16)\n",
      "Requirement already satisfied: certifi>=2017.4.17 in c:\\users\\akash\\anaconda3\\lib\\site-packages (from requests) (2023.7.22)\n"
     ]
    }
   ],
   "source": [
    "!pip install bs4\n",
    "!pip install requests"
   ]
  },
  {
   "cell_type": "code",
   "execution_count": 2,
   "id": "f75d22eb",
   "metadata": {},
   "outputs": [],
   "source": [
    "from bs4 import BeautifulSoup\n",
    "import requests"
   ]
  },
  {
   "cell_type": "code",
   "execution_count": 6,
   "id": "98abbbe5",
   "metadata": {},
   "outputs": [],
   "source": [
    "page = requests.get('https://www.woodlandworldwide.com/')"
   ]
  },
  {
   "cell_type": "code",
   "execution_count": 7,
   "id": "7ca11079",
   "metadata": {},
   "outputs": [
    {
     "data": {
      "text/plain": [
       "<Response [200]>"
      ]
     },
     "execution_count": 7,
     "metadata": {},
     "output_type": "execute_result"
    }
   ],
   "source": [
    "page"
   ]
  },
  {
   "cell_type": "code",
   "execution_count": 8,
   "id": "ab40f9cf",
   "metadata": {},
   "outputs": [
    {
     "data": {
      "text/plain": [
       "<!DOCTYPE html>\n",
       "<html><head><meta charset=\"utf-8\"/><meta content=\"width=device-width\" name=\"viewport\"/><link href=\"/favicon.png\" rel=\"shortcut icon\"/><meta content=\"3\" name=\"next-head-count\"/><link as=\"style\" href=\"/_next/static/css/05aab7c9bd51eb88.css\" rel=\"preload\"/><link data-n-g=\"\" href=\"/_next/static/css/05aab7c9bd51eb88.css\" rel=\"stylesheet\"/><link as=\"style\" href=\"/_next/static/css/16038154a05f6918.css\" rel=\"preload\"/><link data-n-p=\"\" href=\"/_next/static/css/16038154a05f6918.css\" rel=\"stylesheet\"/><link as=\"style\" href=\"/_next/static/css/2d5080e67ee4676a.css\" rel=\"preload\"/><link data-n-p=\"\" href=\"/_next/static/css/2d5080e67ee4676a.css\" rel=\"stylesheet\"/><link as=\"style\" href=\"/_next/static/css/bbe5ad6fcc5b7ed0.css\" rel=\"preload\"/><link data-n-p=\"\" href=\"/_next/static/css/bbe5ad6fcc5b7ed0.css\" rel=\"stylesheet\"/><noscript data-n-css=\"\"></noscript><script defer=\"\" nomodule=\"\" src=\"/_next/static/chunks/polyfills-c67a75d1b6f99dc8.js\"></script><script defer=\"\" src=\"/_next/static/chunks/webpack-73b92412f33c5c03.js\"></script><script defer=\"\" src=\"/_next/static/chunks/framework-3236775a9ca336a2.js\"></script><script defer=\"\" src=\"/_next/static/chunks/main-c7c999f317dee486.js\"></script><script defer=\"\" src=\"/_next/static/chunks/pages/_app-c828374fe4dded44.js\"></script><script defer=\"\" src=\"/_next/static/chunks/0c428ae2-227c39038a1bb04b.js\"></script><script defer=\"\" src=\"/_next/static/chunks/0eceb729-9e7537160705370c.js\"></script><script defer=\"\" src=\"/_next/static/chunks/8495-18ed8303817cc761.js\"></script><script defer=\"\" src=\"/_next/static/chunks/6333-e079e584f07e7fd9.js\"></script><script defer=\"\" src=\"/_next/static/chunks/1104-4d323819bf1ca78d.js\"></script><script defer=\"\" src=\"/_next/static/chunks/594-2d7331e44d2be93c.js\"></script><script defer=\"\" src=\"/_next/static/chunks/5373-19f66086d0134555.js\"></script><script defer=\"\" src=\"/_next/static/chunks/9487-877475a66bd9bd75.js\"></script><script defer=\"\" src=\"/_next/static/chunks/pages/index-7fcb0d2bd6d655a3.js\"></script><script defer=\"\" src=\"/_next/static/yOI3C9S05Fww6gKjfa916/_buildManifest.js\"></script><script defer=\"\" src=\"/_next/static/yOI3C9S05Fww6gKjfa916/_ssgManifest.js\"></script></head><body><div id=\"__next\"></div><script id=\"__NEXT_DATA__\" type=\"application/json\">{\"props\":{\"pageProps\":{}},\"page\":\"/\",\"query\":{},\"buildId\":\"yOI3C9S05Fww6gKjfa916\",\"nextExport\":true,\"autoExport\":true,\"isFallback\":false,\"scriptLoader\":[]}</script></body></html>"
      ]
     },
     "execution_count": 8,
     "metadata": {},
     "output_type": "execute_result"
    }
   ],
   "source": [
    "soup=BeautifulSoup(page.content)\n",
    "soup"
   ]
  },
  {
   "cell_type": "code",
   "execution_count": null,
   "id": "5fe759c5",
   "metadata": {},
   "outputs": [],
   "source": []
  }
 ],
 "metadata": {
  "kernelspec": {
   "display_name": "Python 3 (ipykernel)",
   "language": "python",
   "name": "python3"
  },
  "language_info": {
   "codemirror_mode": {
    "name": "ipython",
    "version": 3
   },
   "file_extension": ".py",
   "mimetype": "text/x-python",
   "name": "python",
   "nbconvert_exporter": "python",
   "pygments_lexer": "ipython3",
   "version": "3.11.5"
  }
 },
 "nbformat": 4,
 "nbformat_minor": 5
}
